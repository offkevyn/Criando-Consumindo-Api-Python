{
 "cells": [
  {
   "cell_type": "code",
   "execution_count": 1,
   "id": "5b0ddfb4",
   "metadata": {},
   "outputs": [],
   "source": [
    "import pandas as pd\n",
    "import json\n",
    "from flask import Flask, jsonify"
   ]
  },
  {
   "cell_type": "code",
   "execution_count": 2,
   "id": "660011a2",
   "metadata": {},
   "outputs": [],
   "source": [
    "#instanciando meu APP Flask\n",
    "app = Flask(__name__)\n",
    "titanic = pd.read_csv(\"C://Users/kevyn/Downloads/titanic.csv\")"
   ]
  },
  {
   "cell_type": "code",
   "execution_count": 3,
   "id": "4366b75d",
   "metadata": {},
   "outputs": [],
   "source": [
    "@app.route('/')\n",
    "def pagInicial():\n",
    "    return '<h1>OFFKEVYN</h1> <a href=\"/numSobreviventes\">Número de sobreviventes</a><br><a href=\"/dados\">Titanic</a>'"
   ]
  },
  {
   "cell_type": "code",
   "execution_count": 4,
   "id": "3843f336",
   "metadata": {},
   "outputs": [],
   "source": [
    "@app.route('/numSobreviventes')\n",
    "def numSobreviventes():\n",
    "    total = titanic[\"Survived\"].sum()    \n",
    "    response = jsonify({'Total': int(total)})\n",
    "    response.headers.add('Access-Control-Allow-Origin', '*')\n",
    "    return response"
   ]
  },
  {
   "cell_type": "code",
   "execution_count": 5,
   "id": "323b7e79",
   "metadata": {},
   "outputs": [],
   "source": [
    "@app.route('/numHomens')\n",
    "def numHomens():\n",
    "    total = titanic[titanic['Sex'] == 'male']['Sex'].count()\n",
    "    response = jsonify({'Total': int(total)})\n",
    "    response.headers.add('Access-Control-Allow-Origin', '*')\n",
    "    return response"
   ]
  },
  {
   "cell_type": "code",
   "execution_count": 6,
   "id": "fa8af7ec",
   "metadata": {},
   "outputs": [],
   "source": [
    "@app.route('/numMulheres')\n",
    "def numMulheres():\n",
    "    total = titanic[titanic['Sex'] == 'female']['Sex'].count()\n",
    "    response = jsonify({'Total': int(total)})\n",
    "    response.headers.add('Access-Control-Allow-Origin', '*')\n",
    "    return response"
   ]
  },
  {
   "cell_type": "code",
   "execution_count": 7,
   "id": "20727ebc",
   "metadata": {},
   "outputs": [],
   "source": [
    "@app.route('/numCriancas')\n",
    "def numCriancas():\n",
    "    total = titanic[titanic[\"Age\"] < 18][\"Age\"].count()\n",
    "    response = jsonify({'Total': int(total)})\n",
    "    response.headers.add('Access-Control-Allow-Origin', '*')\n",
    "    return response"
   ]
  },
  {
   "cell_type": "code",
   "execution_count": 8,
   "id": "39e71d2b",
   "metadata": {},
   "outputs": [],
   "source": [
    "@app.route('/totalPassagens')\n",
    "def totalPassagens():\n",
    "    total = titanic['Fare'].sum()\n",
    "    response = jsonify({'Total': total})\n",
    "    response.headers.add('Access-Control-Allow-Origin', '*')\n",
    "    return response"
   ]
  },
  {
   "cell_type": "code",
   "execution_count": 9,
   "id": "20b41ff0",
   "metadata": {},
   "outputs": [],
   "source": [
    "@app.route('/mediaIdade')\n",
    "def mediaIdade():\n",
    "    total = titanic['Age'].mean()\n",
    "    response = jsonify({'Total': total})\n",
    "    response.headers.add('Access-Control-Allow-Origin', '*')\n",
    "    return response"
   ]
  },
  {
   "cell_type": "code",
   "execution_count": 10,
   "id": "0913e69b",
   "metadata": {},
   "outputs": [],
   "source": [
    "@app.route('/dados')\n",
    "def total():\n",
    "    df = pd.read_csv(\"C://Users/kevyn/Downloads/titanic.csv\")\n",
    "    total = df['Fare'].sum()\n",
    "    dicionario = {'Total': total}\n",
    "    return jsonify(dicionario)\n",
    "    #return jsonify({'Total': pd.read_csv(\"C://Users/kevyn/Downloads/titanic.csv\")['Fare'].sum()})"
   ]
  },
  {
   "cell_type": "code",
   "execution_count": null,
   "id": "e42f8a27",
   "metadata": {},
   "outputs": [
    {
     "name": "stdout",
     "output_type": "stream",
     "text": [
      " * Serving Flask app \"__main__\" (lazy loading)\n",
      " * Environment: production\n",
      "\u001b[31m   WARNING: This is a development server. Do not use it in a production deployment.\u001b[0m\n",
      "\u001b[2m   Use a production WSGI server instead.\u001b[0m\n",
      " * Debug mode: off\n"
     ]
    },
    {
     "name": "stderr",
     "output_type": "stream",
     "text": [
      " * Running on http://127.0.0.1:5000/ (Press CTRL+C to quit)\n",
      "127.0.0.1 - - [22/Aug/2022 20:12:55] \"GET /numSobreviventes HTTP/1.1\" 200 -\n",
      "127.0.0.1 - - [22/Aug/2022 20:12:55] \"GET /numMulheres HTTP/1.1\" 200 -\n",
      "127.0.0.1 - - [22/Aug/2022 20:12:55] \"GET /numCriancas HTTP/1.1\" 200 -\n",
      "127.0.0.1 - - [22/Aug/2022 20:12:55] \"GET /numHomens HTTP/1.1\" 200 -\n",
      "127.0.0.1 - - [22/Aug/2022 20:12:55] \"GET /mediaIdade HTTP/1.1\" 200 -\n",
      "127.0.0.1 - - [22/Aug/2022 20:12:55] \"GET /totalPassagens HTTP/1.1\" 200 -\n",
      "127.0.0.1 - - [22/Aug/2022 20:13:57] \"GET /totalPassagens HTTP/1.1\" 200 -\n",
      "127.0.0.1 - - [22/Aug/2022 20:13:57] \"GET /numSobreviventes HTTP/1.1\" 200 -\n",
      "127.0.0.1 - - [22/Aug/2022 20:13:57] \"GET /numMulheres HTTP/1.1\" 200 -\n",
      "127.0.0.1 - - [22/Aug/2022 20:13:57] \"GET /numHomens HTTP/1.1\" 200 -\n",
      "127.0.0.1 - - [22/Aug/2022 20:13:57] \"GET /mediaIdade HTTP/1.1\" 200 -\n",
      "127.0.0.1 - - [22/Aug/2022 20:13:57] \"GET /numCriancas HTTP/1.1\" 200 -\n",
      "127.0.0.1 - - [22/Aug/2022 20:14:00] \"GET /numSobreviventes HTTP/1.1\" 200 -\n",
      "127.0.0.1 - - [22/Aug/2022 20:14:00] \"GET /numHomens HTTP/1.1\" 200 -\n",
      "127.0.0.1 - - [22/Aug/2022 20:14:00] \"GET /numMulheres HTTP/1.1\" 200 -\n",
      "127.0.0.1 - - [22/Aug/2022 20:14:00] \"GET /numCriancas HTTP/1.1\" 200 -\n",
      "127.0.0.1 - - [22/Aug/2022 20:14:00] \"GET /totalPassagens HTTP/1.1\" 200 -\n",
      "127.0.0.1 - - [22/Aug/2022 20:14:00] \"GET /mediaIdade HTTP/1.1\" 200 -\n",
      "127.0.0.1 - - [22/Aug/2022 20:14:01] \"GET /numSobreviventes HTTP/1.1\" 200 -\n",
      "127.0.0.1 - - [22/Aug/2022 20:14:01] \"GET /numHomens HTTP/1.1\" 200 -\n",
      "127.0.0.1 - - [22/Aug/2022 20:14:01] \"GET /numMulheres HTTP/1.1\" 200 -\n",
      "127.0.0.1 - - [22/Aug/2022 20:14:01] \"GET /numCriancas HTTP/1.1\" 200 -\n",
      "127.0.0.1 - - [22/Aug/2022 20:14:01] \"GET /totalPassagens HTTP/1.1\" 200 -\n",
      "127.0.0.1 - - [22/Aug/2022 20:14:01] \"GET /mediaIdade HTTP/1.1\" 200 -\n",
      "127.0.0.1 - - [22/Aug/2022 20:15:19] \"GET /numSobreviventes HTTP/1.1\" 200 -\n",
      "127.0.0.1 - - [22/Aug/2022 20:15:19] \"GET /numMulheres HTTP/1.1\" 200 -\n",
      "127.0.0.1 - - [22/Aug/2022 20:15:19] \"GET /numHomens HTTP/1.1\" 200 -\n",
      "127.0.0.1 - - [22/Aug/2022 20:15:19] \"GET /numCriancas HTTP/1.1\" 200 -\n",
      "127.0.0.1 - - [22/Aug/2022 20:15:19] \"GET /totalPassagens HTTP/1.1\" 200 -\n",
      "127.0.0.1 - - [22/Aug/2022 20:15:19] \"GET /mediaIdade HTTP/1.1\" 200 -\n",
      "127.0.0.1 - - [22/Aug/2022 20:15:23] \"GET /numSobreviventes HTTP/1.1\" 200 -\n",
      "127.0.0.1 - - [22/Aug/2022 20:15:23] \"GET /numHomens HTTP/1.1\" 200 -\n",
      "127.0.0.1 - - [22/Aug/2022 20:15:23] \"GET /numMulheres HTTP/1.1\" 200 -\n",
      "127.0.0.1 - - [22/Aug/2022 20:15:23] \"GET /numCriancas HTTP/1.1\" 200 -\n",
      "127.0.0.1 - - [22/Aug/2022 20:15:23] \"GET /totalPassagens HTTP/1.1\" 200 -\n",
      "127.0.0.1 - - [22/Aug/2022 20:15:23] \"GET /mediaIdade HTTP/1.1\" 200 -\n",
      "127.0.0.1 - - [22/Aug/2022 20:15:34] \"GET /numSobreviventes HTTP/1.1\" 200 -\n",
      "127.0.0.1 - - [22/Aug/2022 20:15:34] \"GET /numHomens HTTP/1.1\" 200 -\n",
      "127.0.0.1 - - [22/Aug/2022 20:15:34] \"GET /numMulheres HTTP/1.1\" 200 -\n",
      "127.0.0.1 - - [22/Aug/2022 20:15:34] \"GET /numCriancas HTTP/1.1\" 200 -\n",
      "127.0.0.1 - - [22/Aug/2022 20:15:34] \"GET /totalPassagens HTTP/1.1\" 200 -\n",
      "127.0.0.1 - - [22/Aug/2022 20:15:34] \"GET /mediaIdade HTTP/1.1\" 200 -\n",
      "127.0.0.1 - - [22/Aug/2022 20:19:34] \"GET /numSobreviventes HTTP/1.1\" 200 -\n",
      "127.0.0.1 - - [22/Aug/2022 20:19:34] \"GET /numMulheres HTTP/1.1\" 200 -\n",
      "127.0.0.1 - - [22/Aug/2022 20:19:34] \"GET /numHomens HTTP/1.1\" 200 -\n",
      "127.0.0.1 - - [22/Aug/2022 20:19:34] \"GET /numCriancas HTTP/1.1\" 200 -\n",
      "127.0.0.1 - - [22/Aug/2022 20:19:34] \"GET /mediaIdade HTTP/1.1\" 200 -\n",
      "127.0.0.1 - - [22/Aug/2022 20:19:34] \"GET /totalPassagens HTTP/1.1\" 200 -\n",
      "127.0.0.1 - - [22/Aug/2022 20:19:37] \"GET /numSobreviventes HTTP/1.1\" 200 -\n",
      "127.0.0.1 - - [22/Aug/2022 20:19:38] \"GET /numHomens HTTP/1.1\" 200 -\n",
      "127.0.0.1 - - [22/Aug/2022 20:19:38] \"GET /numMulheres HTTP/1.1\" 200 -\n",
      "127.0.0.1 - - [22/Aug/2022 20:19:38] \"GET /numCriancas HTTP/1.1\" 200 -\n",
      "127.0.0.1 - - [22/Aug/2022 20:19:38] \"GET /totalPassagens HTTP/1.1\" 200 -\n",
      "127.0.0.1 - - [22/Aug/2022 20:19:38] \"GET /mediaIdade HTTP/1.1\" 200 -\n",
      "127.0.0.1 - - [22/Aug/2022 20:19:55] \"GET /numSobreviventes HTTP/1.1\" 200 -\n",
      "127.0.0.1 - - [22/Aug/2022 20:19:55] \"GET /numHomens HTTP/1.1\" 200 -\n",
      "127.0.0.1 - - [22/Aug/2022 20:19:55] \"GET /numMulheres HTTP/1.1\" 200 -\n",
      "127.0.0.1 - - [22/Aug/2022 20:19:55] \"GET /numCriancas HTTP/1.1\" 200 -\n",
      "127.0.0.1 - - [22/Aug/2022 20:19:55] \"GET /totalPassagens HTTP/1.1\" 200 -\n",
      "127.0.0.1 - - [22/Aug/2022 20:19:55] \"GET /mediaIdade HTTP/1.1\" 200 -\n",
      "127.0.0.1 - - [22/Aug/2022 20:20:23] \"GET /numSobreviventes HTTP/1.1\" 200 -\n",
      "127.0.0.1 - - [22/Aug/2022 20:20:23] \"GET /numHomens HTTP/1.1\" 200 -\n",
      "127.0.0.1 - - [22/Aug/2022 20:20:23] \"GET /numMulheres HTTP/1.1\" 200 -\n",
      "127.0.0.1 - - [22/Aug/2022 20:20:23] \"GET /numCriancas HTTP/1.1\" 200 -\n",
      "127.0.0.1 - - [22/Aug/2022 20:20:23] \"GET /totalPassagens HTTP/1.1\" 200 -\n",
      "127.0.0.1 - - [22/Aug/2022 20:20:23] \"GET /mediaIdade HTTP/1.1\" 200 -\n",
      "127.0.0.1 - - [22/Aug/2022 20:21:47] \"GET /numSobreviventes HTTP/1.1\" 200 -\n",
      "127.0.0.1 - - [22/Aug/2022 20:21:48] \"GET /numMulheres HTTP/1.1\" 200 -\n",
      "127.0.0.1 - - [22/Aug/2022 20:21:48] \"GET /numHomens HTTP/1.1\" 200 -\n",
      "127.0.0.1 - - [22/Aug/2022 20:21:48] \"GET /numCriancas HTTP/1.1\" 200 -\n",
      "127.0.0.1 - - [22/Aug/2022 20:21:48] \"GET /totalPassagens HTTP/1.1\" 200 -\n",
      "127.0.0.1 - - [22/Aug/2022 20:21:48] \"GET /mediaIdade HTTP/1.1\" 200 -\n"
     ]
    }
   ],
   "source": [
    "app.run()"
   ]
  },
  {
   "cell_type": "code",
   "execution_count": null,
   "id": "07933003",
   "metadata": {},
   "outputs": [],
   "source": [
    "titanic = pd.read_csv(\"C://Users/kevyn/Downloads/titanic.csv\")\n",
    "temp = titanic[titanic[\"Age\"] < 18][\"Age\"].count()\n",
    "\n",
    "print(temp)\n",
    "display(titanic[titanic[\"Age\"] > 70])\n",
    "print(titanic['Age'].mean())\n",
    "\n"
   ]
  },
  {
   "cell_type": "code",
   "execution_count": null,
   "id": "b9148601",
   "metadata": {},
   "outputs": [],
   "source": [
    "titanic = pd.read_csv(\"C://Users/kevyn/Downloads/titanic.csv\")\n",
    "t = titanic[titanic[\"Age\"] > 30][\"Name\"]\n",
    "l = t.tolist() \n",
    "\n",
    "#for x in dicionaro:\n",
    "# print(x)"
   ]
  },
  {
   "cell_type": "code",
   "execution_count": null,
   "id": "209416df",
   "metadata": {},
   "outputs": [],
   "source": [
    "display(titanic)"
   ]
  },
  {
   "cell_type": "code",
   "execution_count": null,
   "id": "b87c7894",
   "metadata": {},
   "outputs": [],
   "source": [
    "titanic = pd.read_csv(\"C://Users/kevyn/Downloads/titanic.csv\")\n",
    "temp = titanic[titanic[\"Name\"] == 'Braund, Mr. Owen Harris']\n",
    "\n",
    "display(temp)\n",
    "display(temp[\"Age\"].count())"
   ]
  },
  {
   "cell_type": "code",
   "execution_count": null,
   "id": "4b871023",
   "metadata": {},
   "outputs": [],
   "source": [
    "#nsi = df.loc[df[\"Pclass\"] == 2, [\"Name\", \"Age\", \"Sex\"]]\n",
    "#nsi2 = nsi.loc[nsi[\"Age\"].notna()]\n",
    "#nsi.head()"
   ]
  },
  {
   "cell_type": "code",
   "execution_count": null,
   "id": "49c5a75e",
   "metadata": {},
   "outputs": [],
   "source": []
  },
  {
   "cell_type": "code",
   "execution_count": null,
   "id": "c3fc3fa7",
   "metadata": {},
   "outputs": [],
   "source": []
  }
 ],
 "metadata": {
  "kernelspec": {
   "display_name": "Python 3 (ipykernel)",
   "language": "python",
   "name": "python3"
  },
  "language_info": {
   "codemirror_mode": {
    "name": "ipython",
    "version": 3
   },
   "file_extension": ".py",
   "mimetype": "text/x-python",
   "name": "python",
   "nbconvert_exporter": "python",
   "pygments_lexer": "ipython3",
   "version": "3.9.12"
  }
 },
 "nbformat": 4,
 "nbformat_minor": 5
}
